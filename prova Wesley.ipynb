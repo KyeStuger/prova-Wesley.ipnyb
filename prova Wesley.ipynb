{
 "cells": [
  {
   "cell_type": "raw",
   "id": "e6186f5f-35a7-4fa0-84b8-1cb878e141f6",
   "metadata": {},
   "source": [
    "title: \"stockanalysis UBS\"\n",
    "author: \"Kye Stüger\"\n",
    "date: \"21 de junho de 2023\"\n",
    "lang: \n",
    "format: \n",
    "  html:\n",
    "    code-tools: true\n",
    "    code-fold: true\n",
    "    default-image-extension: png\n",
    "    page-layout: full\n",
    "jupyter: python3"
   ]
  },
  {
   "cell_type": "code",
   "execution_count": 1,
   "id": "8a626ec7-55c6-47e5-a0c3-58f6379a7d94",
   "metadata": {},
   "outputs": [],
   "source": [
    "import pandas_datareader.data as web \n",
    "import datetime as dt \n",
    "import talib as ta\n",
    "import numpy as np \n",
    "import matplotlib.pyplot as plt \n",
    "import pandas as pd "
   ]
  },
  {
   "cell_type": "code",
   "execution_count": 4,
   "id": "55f6cb90-3e3e-4d7a-a0a3-140fe0f70ae9",
   "metadata": {},
   "outputs": [],
   "source": [
    "data = web.DataReader('UBS','stooq')"
   ]
  },
  {
   "cell_type": "code",
   "execution_count": 5,
   "id": "3af3702f-9394-4859-8afa-eabd0825c2ab",
   "metadata": {},
   "outputs": [
    {
     "data": {
      "text/html": [
       "<div>\n",
       "<style scoped>\n",
       "    .dataframe tbody tr th:only-of-type {\n",
       "        vertical-align: middle;\n",
       "    }\n",
       "\n",
       "    .dataframe tbody tr th {\n",
       "        vertical-align: top;\n",
       "    }\n",
       "\n",
       "    .dataframe thead th {\n",
       "        text-align: right;\n",
       "    }\n",
       "</style>\n",
       "<table border=\"1\" class=\"dataframe\">\n",
       "  <thead>\n",
       "    <tr style=\"text-align: right;\">\n",
       "      <th></th>\n",
       "      <th>Open</th>\n",
       "      <th>High</th>\n",
       "      <th>Low</th>\n",
       "      <th>Close</th>\n",
       "      <th>Volume</th>\n",
       "    </tr>\n",
       "    <tr>\n",
       "      <th>Date</th>\n",
       "      <th></th>\n",
       "      <th></th>\n",
       "      <th></th>\n",
       "      <th></th>\n",
       "      <th></th>\n",
       "    </tr>\n",
       "  </thead>\n",
       "  <tbody>\n",
       "    <tr>\n",
       "      <th>2023-06-20</th>\n",
       "      <td>20.340</td>\n",
       "      <td>20.350</td>\n",
       "      <td>20.0600</td>\n",
       "      <td>20.090</td>\n",
       "      <td>2603212</td>\n",
       "    </tr>\n",
       "    <tr>\n",
       "      <th>2023-06-16</th>\n",
       "      <td>20.570</td>\n",
       "      <td>20.580</td>\n",
       "      <td>20.3901</td>\n",
       "      <td>20.410</td>\n",
       "      <td>2525691</td>\n",
       "    </tr>\n",
       "    <tr>\n",
       "      <th>2023-06-15</th>\n",
       "      <td>20.290</td>\n",
       "      <td>20.460</td>\n",
       "      <td>20.2400</td>\n",
       "      <td>20.420</td>\n",
       "      <td>4504957</td>\n",
       "    </tr>\n",
       "    <tr>\n",
       "      <th>2023-06-14</th>\n",
       "      <td>20.500</td>\n",
       "      <td>20.685</td>\n",
       "      <td>20.3900</td>\n",
       "      <td>20.490</td>\n",
       "      <td>3186254</td>\n",
       "    </tr>\n",
       "    <tr>\n",
       "      <th>2023-06-13</th>\n",
       "      <td>20.320</td>\n",
       "      <td>20.465</td>\n",
       "      <td>20.2500</td>\n",
       "      <td>20.280</td>\n",
       "      <td>2983834</td>\n",
       "    </tr>\n",
       "    <tr>\n",
       "      <th>...</th>\n",
       "      <td>...</td>\n",
       "      <td>...</td>\n",
       "      <td>...</td>\n",
       "      <td>...</td>\n",
       "      <td>...</td>\n",
       "    </tr>\n",
       "    <tr>\n",
       "      <th>2018-06-28</th>\n",
       "      <td>13.491</td>\n",
       "      <td>13.549</td>\n",
       "      <td>13.3940</td>\n",
       "      <td>13.499</td>\n",
       "      <td>1565108</td>\n",
       "    </tr>\n",
       "    <tr>\n",
       "      <th>2018-06-27</th>\n",
       "      <td>13.536</td>\n",
       "      <td>13.669</td>\n",
       "      <td>13.4390</td>\n",
       "      <td>13.447</td>\n",
       "      <td>2232784</td>\n",
       "    </tr>\n",
       "    <tr>\n",
       "      <th>2018-06-26</th>\n",
       "      <td>13.580</td>\n",
       "      <td>13.625</td>\n",
       "      <td>13.4470</td>\n",
       "      <td>13.606</td>\n",
       "      <td>2590317</td>\n",
       "    </tr>\n",
       "    <tr>\n",
       "      <th>2018-06-25</th>\n",
       "      <td>13.588</td>\n",
       "      <td>13.625</td>\n",
       "      <td>13.4640</td>\n",
       "      <td>13.527</td>\n",
       "      <td>2212185</td>\n",
       "    </tr>\n",
       "    <tr>\n",
       "      <th>2018-06-22</th>\n",
       "      <td>13.784</td>\n",
       "      <td>13.885</td>\n",
       "      <td>13.7570</td>\n",
       "      <td>13.837</td>\n",
       "      <td>2072754</td>\n",
       "    </tr>\n",
       "  </tbody>\n",
       "</table>\n",
       "<p>1256 rows × 5 columns</p>\n",
       "</div>"
      ],
      "text/plain": [
       "              Open    High      Low   Close   Volume\n",
       "Date                                                \n",
       "2023-06-20  20.340  20.350  20.0600  20.090  2603212\n",
       "2023-06-16  20.570  20.580  20.3901  20.410  2525691\n",
       "2023-06-15  20.290  20.460  20.2400  20.420  4504957\n",
       "2023-06-14  20.500  20.685  20.3900  20.490  3186254\n",
       "2023-06-13  20.320  20.465  20.2500  20.280  2983834\n",
       "...            ...     ...      ...     ...      ...\n",
       "2018-06-28  13.491  13.549  13.3940  13.499  1565108\n",
       "2018-06-27  13.536  13.669  13.4390  13.447  2232784\n",
       "2018-06-26  13.580  13.625  13.4470  13.606  2590317\n",
       "2018-06-25  13.588  13.625  13.4640  13.527  2212185\n",
       "2018-06-22  13.784  13.885  13.7570  13.837  2072754\n",
       "\n",
       "[1256 rows x 5 columns]"
      ]
     },
     "execution_count": 5,
     "metadata": {},
     "output_type": "execute_result"
    }
   ],
   "source": [
    "data"
   ]
  },
  {
   "cell_type": "raw",
   "id": "64986ed7-ad4f-4dd8-85b8-39ca475e10b3",
   "metadata": {},
   "source": [
    "This data has been taken form \"Stooq\""
   ]
  },
  {
   "cell_type": "code",
   "execution_count": 29,
   "id": "cd2e2fbc-9c5d-47ba-a427-f6a381ba3fa4",
   "metadata": {},
   "outputs": [
    {
     "name": "stdout",
     "output_type": "stream",
     "text": [
      "not buy\n",
      "not buy\n",
      "not buy\n",
      "not buy\n",
      "not buy\n",
      "not buy\n"
     ]
    }
   ],
   "source": [
    "lista = data\n",
    "for element in lista:\n",
    "    try:\n",
    "        if isinstance(element, int) and element <= 20:\n",
    "            print('buy')\n",
    "        elif isinstance(element, str) and int(element) <= 20:\n",
    "            print('buy')\n",
    "        else:\n",
    "            print('not buy')\n",
    "    except ValueError:\n",
    "        print('not buy')"
   ]
  },
  {
   "cell_type": "code",
   "execution_count": 33,
   "id": "930c5957-d0ab-4ee5-935d-8b1db8b5e479",
   "metadata": {},
   "outputs": [
    {
     "name": "stdout",
     "output_type": "stream",
     "text": [
      "4059843464\n"
     ]
    }
   ],
   "source": [
    "from functools import reduce\n",
    "numbers = data[\"Volume\"]\n",
    "sum_of_numbers = reduce(lambda x, y: x + y, numbers)\n",
    "print(sum_of_numbers)"
   ]
  },
  {
   "cell_type": "code",
   "execution_count": 34,
   "id": "ff5aa468-28b3-4f9c-92b5-517c87d70e3e",
   "metadata": {},
   "outputs": [
    {
     "name": "stdout",
     "output_type": "stream",
     "text": [
      "             Open   High    Low  Close  Volume\n",
      "Date                                          \n",
      "2023-06-20  False  False  False  False    True\n",
      "2023-06-16  False  False  False  False   False\n",
      "2023-06-15  False  False  False  False   False\n",
      "2023-06-14  False  False  False  False    True\n",
      "2023-06-13  False  False  False  False    True\n",
      "...           ...    ...    ...    ...     ...\n",
      "2022-06-17  False  False  False  False    True\n",
      "2022-06-16  False  False  False  False   False\n",
      "2022-06-15  False  False  False  False   False\n",
      "2022-06-14  False  False  False  False    True\n",
      "2022-06-13  False  False  False  False    True\n",
      "\n",
      "[256 rows x 5 columns]\n"
     ]
    }
   ],
   "source": [
    "start=dt.datetime(2022,6,13)\n",
    "end=dt.datetime.now()\n",
    "data=web.DataReader('UBS','stooq',start,end)\n",
    "median= data%2==0 \n",
    "print(median)"
   ]
  },
  {
   "cell_type": "code",
   "execution_count": 36,
   "id": "4e116935-7802-4430-92db-3bf4c76cfb74",
   "metadata": {},
   "outputs": [
    {
     "name": "stdout",
     "output_type": "stream",
     "text": [
      "2380.730000000001\n"
     ]
    }
   ],
   "source": [
    "start = dt.datetime(2023, 1, 1)\n",
    "end = dt.datetime.now()\n",
    "data = web.DataReader('UBS', 'stooq', start, end)\n",
    "\n",
    "column_to_sum = data['Close']\n",
    "resultado = sum(column_to_sum)\n",
    "print(resultado)"
   ]
  },
  {
   "cell_type": "markdown",
   "id": "58f55c51-d4f5-4353-9ffc-532be9ff227d",
   "metadata": {},
   "source": []
  }
 ],
 "metadata": {
  "kernelspec": {
   "display_name": "Python 3 (ipykernel)",
   "language": "python",
   "name": "python3"
  },
  "language_info": {
   "codemirror_mode": {
    "name": "ipython",
    "version": 3
   },
   "file_extension": ".py",
   "mimetype": "text/x-python",
   "name": "python",
   "nbconvert_exporter": "python",
   "pygments_lexer": "ipython3",
   "version": "3.10.9"
  }
 },
 "nbformat": 4,
 "nbformat_minor": 5
}
